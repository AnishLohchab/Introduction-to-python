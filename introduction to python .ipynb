{
 "cells": [
  {
   "cell_type": "code",
   "execution_count": 6,
   "id": "062ea7b3",
   "metadata": {},
   "outputs": [],
   "source": [
    "x = 10"
   ]
  },
  {
   "cell_type": "code",
   "execution_count": 4,
   "id": "0cbd37f9",
   "metadata": {},
   "outputs": [
    {
     "data": {
      "text/plain": [
       "20"
      ]
     },
     "execution_count": 4,
     "metadata": {},
     "output_type": "execute_result"
    }
   ],
   "source": [
    "x = 20\n",
    "x"
   ]
  },
  {
   "cell_type": "code",
   "execution_count": 7,
   "id": "95a99ebb",
   "metadata": {},
   "outputs": [],
   "source": [
    "#commenting\n",
    "#print(x)"
   ]
  },
  {
   "cell_type": "code",
   "execution_count": 7,
   "id": "d126fe92",
   "metadata": {},
   "outputs": [
    {
     "data": {
      "text/plain": [
       "'print(x)'"
      ]
     },
     "execution_count": 7,
     "metadata": {},
     "output_type": "execute_result"
    }
   ],
   "source": [
    "'print(x)'"
   ]
  },
  {
   "cell_type": "code",
   "execution_count": 8,
   "id": "addfe2ab",
   "metadata": {},
   "outputs": [
    {
     "data": {
      "text/plain": [
       "'the statement of print(x)'"
      ]
     },
     "execution_count": 8,
     "metadata": {},
     "output_type": "execute_result"
    }
   ],
   "source": [
    "\"the statement of print(x)\""
   ]
  },
  {
   "cell_type": "code",
   "execution_count": 1,
   "id": "14d22be5",
   "metadata": {},
   "outputs": [
    {
     "data": {
      "text/plain": [
       "'the triple quotes uses multi line statement'"
      ]
     },
     "execution_count": 1,
     "metadata": {},
     "output_type": "execute_result"
    }
   ],
   "source": [
    "'''the triple quotes uses multi line statement'''"
   ]
  },
  {
   "cell_type": "code",
   "execution_count": 10,
   "id": "f81e09ef",
   "metadata": {},
   "outputs": [],
   "source": [
    "one_1 = 0              #we cannot write numerical value at first"
   ]
  },
  {
   "cell_type": "code",
   "execution_count": 11,
   "id": "fdc390f2",
   "metadata": {},
   "outputs": [
    {
     "data": {
      "text/plain": [
       "0"
      ]
     },
     "execution_count": 11,
     "metadata": {},
     "output_type": "execute_result"
    }
   ],
   "source": [
    "one_1"
   ]
  },
  {
   "cell_type": "markdown",
   "id": "69f1dc6e",
   "metadata": {},
   "source": [
    "ASSIGNING VALUE"
   ]
  },
  {
   "cell_type": "code",
   "execution_count": 6,
   "id": "a8361be0",
   "metadata": {},
   "outputs": [],
   "source": [
    "A = 102"
   ]
  },
  {
   "cell_type": "code",
   "execution_count": 7,
   "id": "97c144e6",
   "metadata": {},
   "outputs": [],
   "source": [
    "a = 105"
   ]
  },
  {
   "cell_type": "code",
   "execution_count": 8,
   "id": "6a7deb9b",
   "metadata": {},
   "outputs": [
    {
     "data": {
      "text/plain": [
       "102"
      ]
     },
     "execution_count": 8,
     "metadata": {},
     "output_type": "execute_result"
    }
   ],
   "source": [
    "A"
   ]
  },
  {
   "cell_type": "code",
   "execution_count": 9,
   "id": "c0e124e3",
   "metadata": {},
   "outputs": [],
   "source": [
    "a,b,c = 10,20,30"
   ]
  },
  {
   "cell_type": "code",
   "execution_count": 15,
   "id": "1cd64c18",
   "metadata": {},
   "outputs": [
    {
     "data": {
      "text/plain": [
       "(10, 20)"
      ]
     },
     "execution_count": 15,
     "metadata": {},
     "output_type": "execute_result"
    }
   ],
   "source": [
    "a,b"
   ]
  },
  {
   "cell_type": "code",
   "execution_count": 16,
   "id": "cea703a4",
   "metadata": {},
   "outputs": [
    {
     "data": {
      "text/plain": [
       "20"
      ]
     },
     "execution_count": 16,
     "metadata": {},
     "output_type": "execute_result"
    }
   ],
   "source": [
    "b"
   ]
  },
  {
   "cell_type": "code",
   "execution_count": 17,
   "id": "d5120ff1",
   "metadata": {},
   "outputs": [
    {
     "data": {
      "text/plain": [
       "30"
      ]
     },
     "execution_count": 17,
     "metadata": {},
     "output_type": "execute_result"
    }
   ],
   "source": [
    "c"
   ]
  },
  {
   "cell_type": "markdown",
   "id": "3e40814f",
   "metadata": {},
   "source": [
    "local variable and global variable"
   ]
  },
  {
   "cell_type": "code",
   "execution_count": 20,
   "id": "d8550f98",
   "metadata": {},
   "outputs": [],
   "source": [
    "r = 10                    #global variable (outside the class)\n",
    "def add(a,b):\n",
    "    r = a+b                #local variable (inside the class)\n",
    "    return r"
   ]
  },
  {
   "cell_type": "code",
   "execution_count": 21,
   "id": "faa3c303",
   "metadata": {},
   "outputs": [
    {
     "data": {
      "text/plain": [
       "10"
      ]
     },
     "execution_count": 21,
     "metadata": {},
     "output_type": "execute_result"
    }
   ],
   "source": [
    "r"
   ]
  },
  {
   "cell_type": "markdown",
   "id": "06662dbd",
   "metadata": {},
   "source": [
    "DATA TYPES"
   ]
  },
  {
   "cell_type": "code",
   "execution_count": 22,
   "id": "3deec03d",
   "metadata": {},
   "outputs": [],
   "source": [
    "t = 'Excelr'             #string can always be written in single and double exclimation mark"
   ]
  },
  {
   "cell_type": "code",
   "execution_count": 23,
   "id": "57817480",
   "metadata": {},
   "outputs": [
    {
     "data": {
      "text/plain": [
       "str"
      ]
     },
     "execution_count": 23,
     "metadata": {},
     "output_type": "execute_result"
    }
   ],
   "source": [
    "type(t)"
   ]
  },
  {
   "cell_type": "code",
   "execution_count": 24,
   "id": "7733a246",
   "metadata": {},
   "outputs": [
    {
     "data": {
      "text/plain": [
       "int"
      ]
     },
     "execution_count": 24,
     "metadata": {},
     "output_type": "execute_result"
    }
   ],
   "source": [
    "t1 = 10\n",
    "type(t1)"
   ]
  },
  {
   "cell_type": "code",
   "execution_count": 25,
   "id": "62dcb70e",
   "metadata": {},
   "outputs": [
    {
     "data": {
      "text/plain": [
       "float"
      ]
     },
     "execution_count": 25,
     "metadata": {},
     "output_type": "execute_result"
    }
   ],
   "source": [
    "t2 = 0.24\n",
    "type(t2)"
   ]
  },
  {
   "cell_type": "code",
   "execution_count": 26,
   "id": "3fbc4219",
   "metadata": {},
   "outputs": [
    {
     "data": {
      "text/plain": [
       "complex"
      ]
     },
     "execution_count": 26,
     "metadata": {},
     "output_type": "execute_result"
    }
   ],
   "source": [
    "t3 = 1J+7\n",
    "type(t3)"
   ]
  },
  {
   "cell_type": "code",
   "execution_count": 27,
   "id": "ed27938c",
   "metadata": {},
   "outputs": [
    {
     "data": {
      "text/plain": [
       "list"
      ]
     },
     "execution_count": 27,
     "metadata": {},
     "output_type": "execute_result"
    }
   ],
   "source": [
    "lis = [1,2,3,4,5]                 #list can always be written in []\n",
    "type(lis)"
   ]
  },
  {
   "cell_type": "code",
   "execution_count": 28,
   "id": "85eae7f4",
   "metadata": {},
   "outputs": [],
   "source": [
    "list1 = [10,2,30,3,'anish','excelr']"
   ]
  },
  {
   "cell_type": "code",
   "execution_count": 29,
   "id": "38e0149a",
   "metadata": {},
   "outputs": [
    {
     "data": {
      "text/plain": [
       "list"
      ]
     },
     "execution_count": 29,
     "metadata": {},
     "output_type": "execute_result"
    }
   ],
   "source": [
    "type(list1)"
   ]
  },
  {
   "cell_type": "code",
   "execution_count": 30,
   "id": "ba6de75e",
   "metadata": {},
   "outputs": [],
   "source": [
    "import keyword"
   ]
  },
  {
   "cell_type": "code",
   "execution_count": 31,
   "id": "b1a59253",
   "metadata": {},
   "outputs": [
    {
     "name": "stdout",
     "output_type": "stream",
     "text": [
      "['False', 'None', 'True', 'and', 'as', 'assert', 'async', 'await', 'break', 'class', 'continue', 'def', 'del', 'elif', 'else', 'except', 'finally', 'for', 'from', 'global', 'if', 'import', 'in', 'is', 'lambda', 'nonlocal', 'not', 'or', 'pass', 'raise', 'return', 'try', 'while', 'with', 'yield']\n"
     ]
    }
   ],
   "source": [
    "print(keyword.kwlist)      # to find the list of keywords"
   ]
  },
  {
   "cell_type": "code",
   "execution_count": 32,
   "id": "2f80a4b4",
   "metadata": {},
   "outputs": [],
   "source": [
    "dic = {'one':1,'two':2,'three':3}          #always be written in flower bracket{}"
   ]
  },
  {
   "cell_type": "code",
   "execution_count": 33,
   "id": "caae7886",
   "metadata": {},
   "outputs": [
    {
     "data": {
      "text/plain": [
       "{'one': 1, 'two': 2, 'three': 3}"
      ]
     },
     "execution_count": 33,
     "metadata": {},
     "output_type": "execute_result"
    }
   ],
   "source": [
    "dic"
   ]
  },
  {
   "cell_type": "code",
   "execution_count": 3,
   "id": "27c5da8f",
   "metadata": {},
   "outputs": [],
   "source": [
    "dict1= {'num':[0,1,2,3,4,5],'name':['anish','aayush','priya']}      # mandatory to present the keys(lables) and values"
   ]
  },
  {
   "cell_type": "code",
   "execution_count": 4,
   "id": "8c073105",
   "metadata": {},
   "outputs": [
    {
     "data": {
      "text/plain": [
       "{'num': [0, 1, 2, 3, 4, 5], 'name': ['anish', 'aayush', 'priya']}"
      ]
     },
     "execution_count": 4,
     "metadata": {},
     "output_type": "execute_result"
    }
   ],
   "source": [
    "dict1"
   ]
  },
  {
   "cell_type": "code",
   "execution_count": 5,
   "id": "3a7d7931",
   "metadata": {},
   "outputs": [
    {
     "data": {
      "text/plain": [
       "[0, 1, 2, 3, 4, 5]"
      ]
     },
     "execution_count": 5,
     "metadata": {},
     "output_type": "execute_result"
    }
   ],
   "source": [
    " dict1['num']             #for the specific value"
   ]
  },
  {
   "cell_type": "code",
   "execution_count": 6,
   "id": "edff2734",
   "metadata": {},
   "outputs": [
    {
     "data": {
      "text/plain": [
       "dict_keys(['num', 'name'])"
      ]
     },
     "execution_count": 6,
     "metadata": {},
     "output_type": "execute_result"
    }
   ],
   "source": [
    "dict1.keys()"
   ]
  },
  {
   "cell_type": "code",
   "execution_count": 41,
   "id": "0271d914",
   "metadata": {},
   "outputs": [
    {
     "data": {
      "text/plain": [
       "dict_values([[0, 1, 2, 3, 4, 5], ['anish', 'aayush', 'priya']])"
      ]
     },
     "execution_count": 41,
     "metadata": {},
     "output_type": "execute_result"
    }
   ],
   "source": [
    "dict1.values()"
   ]
  },
  {
   "cell_type": "code",
   "execution_count": 7,
   "id": "74fc8478",
   "metadata": {},
   "outputs": [],
   "source": [
    "tup = (1,2,3,4,5)           #tuple is always written as without brackets"
   ]
  },
  {
   "cell_type": "code",
   "execution_count": 8,
   "id": "68e4b8b1",
   "metadata": {},
   "outputs": [
    {
     "data": {
      "text/plain": [
       "tuple"
      ]
     },
     "execution_count": 8,
     "metadata": {},
     "output_type": "execute_result"
    }
   ],
   "source": [
    "type(tup)"
   ]
  },
  {
   "cell_type": "code",
   "execution_count": 10,
   "id": "381de8d3",
   "metadata": {},
   "outputs": [],
   "source": [
    "ran = range(0,2)"
   ]
  },
  {
   "cell_type": "code",
   "execution_count": 11,
   "id": "aebcb9fc",
   "metadata": {},
   "outputs": [
    {
     "data": {
      "text/plain": [
       "range"
      ]
     },
     "execution_count": 11,
     "metadata": {},
     "output_type": "execute_result"
    }
   ],
   "source": [
    "type(ran)"
   ]
  },
  {
   "cell_type": "code",
   "execution_count": 12,
   "id": "efd6aab2",
   "metadata": {},
   "outputs": [
    {
     "data": {
      "text/plain": [
       "range(0, 2)"
      ]
     },
     "execution_count": 12,
     "metadata": {},
     "output_type": "execute_result"
    }
   ],
   "source": [
    "ran"
   ]
  },
  {
   "cell_type": "code",
   "execution_count": 50,
   "id": "e6f60864",
   "metadata": {},
   "outputs": [
    {
     "data": {
      "text/plain": [
       "bool"
      ]
     },
     "execution_count": 50,
     "metadata": {},
     "output_type": "execute_result"
    }
   ],
   "source": [
    "tr = True\n",
    "type(tr)"
   ]
  },
  {
   "cell_type": "code",
   "execution_count": 52,
   "id": "e4ebb39e",
   "metadata": {},
   "outputs": [
    {
     "data": {
      "text/plain": [
       "False"
      ]
     },
     "execution_count": 52,
     "metadata": {},
     "output_type": "execute_result"
    }
   ],
   "source": [
    "True==False"
   ]
  },
  {
   "cell_type": "code",
   "execution_count": 53,
   "id": "6ebeb7af",
   "metadata": {},
   "outputs": [
    {
     "data": {
      "text/plain": [
       "True"
      ]
     },
     "execution_count": 53,
     "metadata": {},
     "output_type": "execute_result"
    }
   ],
   "source": [
    "True!=False"
   ]
  },
  {
   "cell_type": "markdown",
   "id": "b0a6d779",
   "metadata": {},
   "source": [
    "type casting (changing the datatype)"
   ]
  },
  {
   "cell_type": "code",
   "execution_count": 14,
   "id": "ab5866cc",
   "metadata": {},
   "outputs": [
    {
     "data": {
      "text/plain": [
       "str"
      ]
     },
     "execution_count": 14,
     "metadata": {},
     "output_type": "execute_result"
    }
   ],
   "source": [
    "one = '11'\n",
    "type(one)"
   ]
  },
  {
   "cell_type": "code",
   "execution_count": 59,
   "id": "32c0a3f4",
   "metadata": {},
   "outputs": [
    {
     "data": {
      "text/plain": [
       "int"
      ]
     },
     "execution_count": 59,
     "metadata": {},
     "output_type": "execute_result"
    }
   ],
   "source": [
    "two = int(one)\n",
    "type(two)"
   ]
  },
  {
   "cell_type": "code",
   "execution_count": null,
   "id": "6ad73096",
   "metadata": {},
   "outputs": [],
   "source": []
  }
 ],
 "metadata": {
  "kernelspec": {
   "display_name": "Python 3 (ipykernel)",
   "language": "python",
   "name": "python3"
  },
  "language_info": {
   "codemirror_mode": {
    "name": "ipython",
    "version": 3
   },
   "file_extension": ".py",
   "mimetype": "text/x-python",
   "name": "python",
   "nbconvert_exporter": "python",
   "pygments_lexer": "ipython3",
   "version": "3.11.3"
  }
 },
 "nbformat": 4,
 "nbformat_minor": 5
}
